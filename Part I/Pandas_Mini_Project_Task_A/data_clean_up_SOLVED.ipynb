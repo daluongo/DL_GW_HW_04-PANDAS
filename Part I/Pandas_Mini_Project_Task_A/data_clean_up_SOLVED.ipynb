{
 "cells": [
  {
   "cell_type": "markdown",
   "metadata": {},
   "source": [
    "**BIG BIG HINT! Look in the instructions to guide you on this task.**"
   ]
  },
  {
   "cell_type": "code",
   "execution_count": 1,
   "metadata": {},
   "outputs": [],
   "source": [
    "# Dependencies\n",
    "import pandas as pd"
   ]
  },
  {
   "cell_type": "code",
   "execution_count": 2,
   "metadata": {},
   "outputs": [],
   "source": [
    "# load CSV\n",
    "csv_path = \"Resources/2016-FCC-New-Coders-Survey-Data.csv\""
   ]
  },
  {
   "cell_type": "code",
   "execution_count": 3,
   "metadata": {},
   "outputs": [],
   "source": [
    "# Read with pandas\n",
    "df = pd.read_csv(csv_path, encoding = 'iso-8859-1', low_memory=False)"
   ]
  },
  {
   "cell_type": "code",
   "execution_count": 4,
   "metadata": {},
   "outputs": [
    {
     "data": {
      "text/plain": [
       "Index(['Age', 'AttendedBootcamp', 'BootcampFinish', 'BootcampFullJobAfter',\n",
       "       'BootcampLoanYesNo', 'BootcampMonthsAgo', 'BootcampName',\n",
       "       'BootcampPostSalary', 'BootcampRecommend', 'ChildrenNumber',\n",
       "       ...\n",
       "       'ResourceSoloLearn', 'ResourceStackOverflow', 'ResourceTreehouse',\n",
       "       'ResourceUdacity', 'ResourceUdemy', 'ResourceW3Schools',\n",
       "       'ResourceYouTube', 'SchoolDegree', 'SchoolMajor', 'StudentDebtOwe'],\n",
       "      dtype='object', length=113)"
      ]
     },
     "execution_count": 4,
     "metadata": {},
     "output_type": "execute_result"
    }
   ],
   "source": [
    "# Inspect all columns\n",
    "df.columns"
   ]
  },
  {
   "cell_type": "code",
   "execution_count": 5,
   "metadata": {},
   "outputs": [
    {
     "data": {
      "text/html": [
       "<div>\n",
       "<style scoped>\n",
       "    .dataframe tbody tr th:only-of-type {\n",
       "        vertical-align: middle;\n",
       "    }\n",
       "\n",
       "    .dataframe tbody tr th {\n",
       "        vertical-align: top;\n",
       "    }\n",
       "\n",
       "    .dataframe thead th {\n",
       "        text-align: right;\n",
       "    }\n",
       "</style>\n",
       "<table border=\"1\" class=\"dataframe\">\n",
       "  <thead>\n",
       "    <tr style=\"text-align: right;\">\n",
       "      <th></th>\n",
       "      <th>Age</th>\n",
       "      <th>AttendedBootcamp</th>\n",
       "      <th>BootcampFinish</th>\n",
       "      <th>BootcampFullJobAfter</th>\n",
       "      <th>BootcampLoanYesNo</th>\n",
       "      <th>BootcampPostSalary</th>\n",
       "      <th>BootcampRecommend</th>\n",
       "      <th>ChildrenNumber</th>\n",
       "      <th>CityPopulation</th>\n",
       "      <th>CodeEventBootcamp</th>\n",
       "      <th>CountryLive</th>\n",
       "      <th>EmploymentField</th>\n",
       "      <th>EmploymentStatus</th>\n",
       "      <th>Gender</th>\n",
       "      <th>HasChildren</th>\n",
       "      <th>HoursLearning</th>\n",
       "      <th>Income</th>\n",
       "      <th>JobRoleInterest</th>\n",
       "      <th>SchoolDegree</th>\n",
       "      <th>SchoolMajor</th>\n",
       "    </tr>\n",
       "  </thead>\n",
       "  <tbody>\n",
       "    <tr>\n",
       "      <th>0</th>\n",
       "      <td>28.0</td>\n",
       "      <td>0.0</td>\n",
       "      <td>NaN</td>\n",
       "      <td>NaN</td>\n",
       "      <td>NaN</td>\n",
       "      <td>NaN</td>\n",
       "      <td>NaN</td>\n",
       "      <td>NaN</td>\n",
       "      <td>between 100,000 and 1 million</td>\n",
       "      <td>NaN</td>\n",
       "      <td>United States of America</td>\n",
       "      <td>office and administrative support</td>\n",
       "      <td>Employed for wages</td>\n",
       "      <td>male</td>\n",
       "      <td>0.0</td>\n",
       "      <td>30.0</td>\n",
       "      <td>32000.0</td>\n",
       "      <td>NaN</td>\n",
       "      <td>some college credit, no degree</td>\n",
       "      <td>NaN</td>\n",
       "    </tr>\n",
       "    <tr>\n",
       "      <th>1</th>\n",
       "      <td>22.0</td>\n",
       "      <td>0.0</td>\n",
       "      <td>NaN</td>\n",
       "      <td>NaN</td>\n",
       "      <td>NaN</td>\n",
       "      <td>NaN</td>\n",
       "      <td>NaN</td>\n",
       "      <td>NaN</td>\n",
       "      <td>between 100,000 and 1 million</td>\n",
       "      <td>NaN</td>\n",
       "      <td>United States of America</td>\n",
       "      <td>food and beverage</td>\n",
       "      <td>Employed for wages</td>\n",
       "      <td>male</td>\n",
       "      <td>NaN</td>\n",
       "      <td>30.0</td>\n",
       "      <td>15000.0</td>\n",
       "      <td>Front-End Web Developer</td>\n",
       "      <td>some college credit, no degree</td>\n",
       "      <td>NaN</td>\n",
       "    </tr>\n",
       "    <tr>\n",
       "      <th>2</th>\n",
       "      <td>19.0</td>\n",
       "      <td>0.0</td>\n",
       "      <td>NaN</td>\n",
       "      <td>NaN</td>\n",
       "      <td>NaN</td>\n",
       "      <td>NaN</td>\n",
       "      <td>NaN</td>\n",
       "      <td>NaN</td>\n",
       "      <td>more than 1 million</td>\n",
       "      <td>NaN</td>\n",
       "      <td>United States of America</td>\n",
       "      <td>finance</td>\n",
       "      <td>Employed for wages</td>\n",
       "      <td>male</td>\n",
       "      <td>NaN</td>\n",
       "      <td>20.0</td>\n",
       "      <td>48000.0</td>\n",
       "      <td>NaN</td>\n",
       "      <td>high school diploma or equivalent (GED)</td>\n",
       "      <td>NaN</td>\n",
       "    </tr>\n",
       "    <tr>\n",
       "      <th>3</th>\n",
       "      <td>26.0</td>\n",
       "      <td>0.0</td>\n",
       "      <td>NaN</td>\n",
       "      <td>NaN</td>\n",
       "      <td>NaN</td>\n",
       "      <td>NaN</td>\n",
       "      <td>NaN</td>\n",
       "      <td>NaN</td>\n",
       "      <td>more than 1 million</td>\n",
       "      <td>NaN</td>\n",
       "      <td>United States of America</td>\n",
       "      <td>arts, entertainment, sports, or media</td>\n",
       "      <td>Employed for wages</td>\n",
       "      <td>female</td>\n",
       "      <td>NaN</td>\n",
       "      <td>20.0</td>\n",
       "      <td>43000.0</td>\n",
       "      <td>Front-End Web Developer</td>\n",
       "      <td>bachelor's degree</td>\n",
       "      <td>Cinematography And Film</td>\n",
       "    </tr>\n",
       "    <tr>\n",
       "      <th>4</th>\n",
       "      <td>20.0</td>\n",
       "      <td>0.0</td>\n",
       "      <td>NaN</td>\n",
       "      <td>NaN</td>\n",
       "      <td>NaN</td>\n",
       "      <td>NaN</td>\n",
       "      <td>NaN</td>\n",
       "      <td>NaN</td>\n",
       "      <td>between 100,000 and 1 million</td>\n",
       "      <td>NaN</td>\n",
       "      <td>United States of America</td>\n",
       "      <td>education</td>\n",
       "      <td>Employed for wages</td>\n",
       "      <td>female</td>\n",
       "      <td>NaN</td>\n",
       "      <td>25.0</td>\n",
       "      <td>6000.0</td>\n",
       "      <td>Full-Stack Web Developer</td>\n",
       "      <td>some college credit, no degree</td>\n",
       "      <td>NaN</td>\n",
       "    </tr>\n",
       "  </tbody>\n",
       "</table>\n",
       "</div>"
      ],
      "text/plain": [
       "    Age  AttendedBootcamp  BootcampFinish  BootcampFullJobAfter  \\\n",
       "0  28.0               0.0             NaN                   NaN   \n",
       "1  22.0               0.0             NaN                   NaN   \n",
       "2  19.0               0.0             NaN                   NaN   \n",
       "3  26.0               0.0             NaN                   NaN   \n",
       "4  20.0               0.0             NaN                   NaN   \n",
       "\n",
       "   BootcampLoanYesNo  BootcampPostSalary  BootcampRecommend  ChildrenNumber  \\\n",
       "0                NaN                 NaN                NaN             NaN   \n",
       "1                NaN                 NaN                NaN             NaN   \n",
       "2                NaN                 NaN                NaN             NaN   \n",
       "3                NaN                 NaN                NaN             NaN   \n",
       "4                NaN                 NaN                NaN             NaN   \n",
       "\n",
       "                  CityPopulation  CodeEventBootcamp               CountryLive  \\\n",
       "0  between 100,000 and 1 million                NaN  United States of America   \n",
       "1  between 100,000 and 1 million                NaN  United States of America   \n",
       "2            more than 1 million                NaN  United States of America   \n",
       "3            more than 1 million                NaN  United States of America   \n",
       "4  between 100,000 and 1 million                NaN  United States of America   \n",
       "\n",
       "                         EmploymentField    EmploymentStatus  Gender  \\\n",
       "0      office and administrative support  Employed for wages    male   \n",
       "1                      food and beverage  Employed for wages    male   \n",
       "2                                finance  Employed for wages    male   \n",
       "3  arts, entertainment, sports, or media  Employed for wages  female   \n",
       "4                              education  Employed for wages  female   \n",
       "\n",
       "   HasChildren  HoursLearning   Income            JobRoleInterest  \\\n",
       "0          0.0           30.0  32000.0                        NaN   \n",
       "1          NaN           30.0  15000.0    Front-End Web Developer   \n",
       "2          NaN           20.0  48000.0                        NaN   \n",
       "3          NaN           20.0  43000.0    Front-End Web Developer   \n",
       "4          NaN           25.0   6000.0   Full-Stack Web Developer   \n",
       "\n",
       "                              SchoolDegree              SchoolMajor  \n",
       "0           some college credit, no degree                      NaN  \n",
       "1           some college credit, no degree                      NaN  \n",
       "2  high school diploma or equivalent (GED)                      NaN  \n",
       "3                        bachelor's degree  Cinematography And Film  \n",
       "4           some college credit, no degree                      NaN  "
      ]
     },
     "execution_count": 5,
     "metadata": {},
     "output_type": "execute_result"
    }
   ],
   "source": [
    "# Extract only columns 0, 1, 2, 3, 4, 7, 8, 9, 10, 11, 29, 30, 32, 36, 37, 45, 48, 56, 110, 111\n",
    "reduced_df = df.iloc[:,[0,1,2,3,4,7,8,9,10,11,29,30,32,36,37,45,48,56,110,111]]\n",
    "reduced_df.head()"
   ]
  },
  {
   "cell_type": "code",
   "execution_count": 6,
   "metadata": {},
   "outputs": [
    {
     "data": {
      "text/html": [
       "<div>\n",
       "<style scoped>\n",
       "    .dataframe tbody tr th:only-of-type {\n",
       "        vertical-align: middle;\n",
       "    }\n",
       "\n",
       "    .dataframe tbody tr th {\n",
       "        vertical-align: top;\n",
       "    }\n",
       "\n",
       "    .dataframe thead th {\n",
       "        text-align: right;\n",
       "    }\n",
       "</style>\n",
       "<table border=\"1\" class=\"dataframe\">\n",
       "  <thead>\n",
       "    <tr style=\"text-align: right;\">\n",
       "      <th></th>\n",
       "      <th>Age</th>\n",
       "      <th>AttendedBootcamp</th>\n",
       "      <th>BootcampFinish</th>\n",
       "      <th>BootcampFullJobAfter</th>\n",
       "      <th>BootcampLoanYesNo</th>\n",
       "      <th>BootcampPostSalary</th>\n",
       "      <th>BootcampRecommend</th>\n",
       "      <th>ChildrenNumber</th>\n",
       "      <th>CityPopulation</th>\n",
       "      <th>CodeEventBootcamp</th>\n",
       "      <th>CountryLive</th>\n",
       "      <th>EmploymentField</th>\n",
       "      <th>EmploymentStatus</th>\n",
       "      <th>Gender</th>\n",
       "      <th>HasChildren</th>\n",
       "      <th>HoursLearning</th>\n",
       "      <th>Income</th>\n",
       "      <th>JobRoleInterest</th>\n",
       "      <th>SchoolDegree</th>\n",
       "      <th>SchoolMajor</th>\n",
       "    </tr>\n",
       "  </thead>\n",
       "  <tbody>\n",
       "    <tr>\n",
       "      <th>0</th>\n",
       "      <td>28.0</td>\n",
       "      <td>No</td>\n",
       "      <td>NaN</td>\n",
       "      <td>NaN</td>\n",
       "      <td>NaN</td>\n",
       "      <td>NaN</td>\n",
       "      <td>NaN</td>\n",
       "      <td>NaN</td>\n",
       "      <td>between 100,000 and 1 million</td>\n",
       "      <td>NaN</td>\n",
       "      <td>United States of America</td>\n",
       "      <td>office and administrative support</td>\n",
       "      <td>Employed for wages</td>\n",
       "      <td>male</td>\n",
       "      <td>No</td>\n",
       "      <td>30</td>\n",
       "      <td>32000.0</td>\n",
       "      <td>NaN</td>\n",
       "      <td>some college credit, no degree</td>\n",
       "      <td>NaN</td>\n",
       "    </tr>\n",
       "    <tr>\n",
       "      <th>1</th>\n",
       "      <td>22.0</td>\n",
       "      <td>No</td>\n",
       "      <td>NaN</td>\n",
       "      <td>NaN</td>\n",
       "      <td>NaN</td>\n",
       "      <td>NaN</td>\n",
       "      <td>NaN</td>\n",
       "      <td>NaN</td>\n",
       "      <td>between 100,000 and 1 million</td>\n",
       "      <td>NaN</td>\n",
       "      <td>United States of America</td>\n",
       "      <td>food and beverage</td>\n",
       "      <td>Employed for wages</td>\n",
       "      <td>male</td>\n",
       "      <td>NaN</td>\n",
       "      <td>30</td>\n",
       "      <td>15000.0</td>\n",
       "      <td>Front-End Web Developer</td>\n",
       "      <td>some college credit, no degree</td>\n",
       "      <td>NaN</td>\n",
       "    </tr>\n",
       "    <tr>\n",
       "      <th>2</th>\n",
       "      <td>19.0</td>\n",
       "      <td>No</td>\n",
       "      <td>NaN</td>\n",
       "      <td>NaN</td>\n",
       "      <td>NaN</td>\n",
       "      <td>NaN</td>\n",
       "      <td>NaN</td>\n",
       "      <td>NaN</td>\n",
       "      <td>more than 1 million</td>\n",
       "      <td>NaN</td>\n",
       "      <td>United States of America</td>\n",
       "      <td>finance</td>\n",
       "      <td>Employed for wages</td>\n",
       "      <td>male</td>\n",
       "      <td>NaN</td>\n",
       "      <td>20</td>\n",
       "      <td>48000.0</td>\n",
       "      <td>NaN</td>\n",
       "      <td>high school diploma or equivalent (GED)</td>\n",
       "      <td>NaN</td>\n",
       "    </tr>\n",
       "    <tr>\n",
       "      <th>3</th>\n",
       "      <td>26.0</td>\n",
       "      <td>No</td>\n",
       "      <td>NaN</td>\n",
       "      <td>NaN</td>\n",
       "      <td>NaN</td>\n",
       "      <td>NaN</td>\n",
       "      <td>NaN</td>\n",
       "      <td>NaN</td>\n",
       "      <td>more than 1 million</td>\n",
       "      <td>NaN</td>\n",
       "      <td>United States of America</td>\n",
       "      <td>arts, entertainment, sports, or media</td>\n",
       "      <td>Employed for wages</td>\n",
       "      <td>female</td>\n",
       "      <td>NaN</td>\n",
       "      <td>20</td>\n",
       "      <td>43000.0</td>\n",
       "      <td>Front-End Web Developer</td>\n",
       "      <td>bachelor's degree</td>\n",
       "      <td>Cinematography And Film</td>\n",
       "    </tr>\n",
       "    <tr>\n",
       "      <th>4</th>\n",
       "      <td>20.0</td>\n",
       "      <td>No</td>\n",
       "      <td>NaN</td>\n",
       "      <td>NaN</td>\n",
       "      <td>NaN</td>\n",
       "      <td>NaN</td>\n",
       "      <td>NaN</td>\n",
       "      <td>NaN</td>\n",
       "      <td>between 100,000 and 1 million</td>\n",
       "      <td>NaN</td>\n",
       "      <td>United States of America</td>\n",
       "      <td>education</td>\n",
       "      <td>Employed for wages</td>\n",
       "      <td>female</td>\n",
       "      <td>NaN</td>\n",
       "      <td>25</td>\n",
       "      <td>6000.0</td>\n",
       "      <td>Full-Stack Web Developer</td>\n",
       "      <td>some college credit, no degree</td>\n",
       "      <td>NaN</td>\n",
       "    </tr>\n",
       "  </tbody>\n",
       "</table>\n",
       "</div>"
      ],
      "text/plain": [
       "    Age AttendedBootcamp BootcampFinish BootcampFullJobAfter  \\\n",
       "0  28.0               No            NaN                  NaN   \n",
       "1  22.0               No            NaN                  NaN   \n",
       "2  19.0               No            NaN                  NaN   \n",
       "3  26.0               No            NaN                  NaN   \n",
       "4  20.0               No            NaN                  NaN   \n",
       "\n",
       "  BootcampLoanYesNo  BootcampPostSalary BootcampRecommend ChildrenNumber  \\\n",
       "0               NaN                 NaN               NaN            NaN   \n",
       "1               NaN                 NaN               NaN            NaN   \n",
       "2               NaN                 NaN               NaN            NaN   \n",
       "3               NaN                 NaN               NaN            NaN   \n",
       "4               NaN                 NaN               NaN            NaN   \n",
       "\n",
       "                  CityPopulation CodeEventBootcamp               CountryLive  \\\n",
       "0  between 100,000 and 1 million               NaN  United States of America   \n",
       "1  between 100,000 and 1 million               NaN  United States of America   \n",
       "2            more than 1 million               NaN  United States of America   \n",
       "3            more than 1 million               NaN  United States of America   \n",
       "4  between 100,000 and 1 million               NaN  United States of America   \n",
       "\n",
       "                         EmploymentField    EmploymentStatus  Gender  \\\n",
       "0      office and administrative support  Employed for wages    male   \n",
       "1                      food and beverage  Employed for wages    male   \n",
       "2                                finance  Employed for wages    male   \n",
       "3  arts, entertainment, sports, or media  Employed for wages  female   \n",
       "4                              education  Employed for wages  female   \n",
       "\n",
       "  HasChildren HoursLearning   Income            JobRoleInterest  \\\n",
       "0          No            30  32000.0                        NaN   \n",
       "1         NaN            30  15000.0    Front-End Web Developer   \n",
       "2         NaN            20  48000.0                        NaN   \n",
       "3         NaN            20  43000.0    Front-End Web Developer   \n",
       "4         NaN            25   6000.0   Full-Stack Web Developer   \n",
       "\n",
       "                              SchoolDegree              SchoolMajor  \n",
       "0           some college credit, no degree                      NaN  \n",
       "1           some college credit, no degree                      NaN  \n",
       "2  high school diploma or equivalent (GED)                      NaN  \n",
       "3                        bachelor's degree  Cinematography And Film  \n",
       "4           some college credit, no degree                      NaN  "
      ]
     },
     "execution_count": 6,
     "metadata": {},
     "output_type": "execute_result"
    }
   ],
   "source": [
    "# Change \"0\" to \"No\" and \"1\" to \"Yes\" in response columns\n",
    "reduced_df = reduced_df.replace({0.0: \"No\", 1.0: \"Yes\"})\n",
    "reduced_df.head()"
   ]
  },
  {
   "cell_type": "code",
   "execution_count": 7,
   "metadata": {},
   "outputs": [
    {
     "data": {
      "text/plain": [
       "15620"
      ]
     },
     "execution_count": 7,
     "metadata": {},
     "output_type": "execute_result"
    }
   ],
   "source": [
    "# Calculate total number of respondents in survey\n",
    "total_surveyed = len(reduced_df)\n",
    "total_surveyed"
   ]
  },
  {
   "cell_type": "code",
   "execution_count": 8,
   "metadata": {},
   "outputs": [
    {
     "data": {
      "text/plain": [
       "Age                     818\n",
       "AttendedBootcamp        953\n",
       "BootcampFinish          933\n",
       "BootcampFullJobAfter    635\n",
       "BootcampLoanYesNo       934\n",
       "BootcampPostSalary      330\n",
       "BootcampRecommend       937\n",
       "ChildrenNumber          148\n",
       "CityPopulation          823\n",
       "CodeEventBootcamp        27\n",
       "CountryLive             825\n",
       "EmploymentField         476\n",
       "EmploymentStatus        792\n",
       "Gender                  833\n",
       "HasChildren             211\n",
       "HoursLearning           925\n",
       "Income                  430\n",
       "JobRoleInterest         402\n",
       "SchoolDegree            832\n",
       "SchoolMajor             622\n",
       "dtype: int64"
      ]
     },
     "execution_count": 8,
     "metadata": {},
     "output_type": "execute_result"
    }
   ],
   "source": [
    "# Extract rows corresponding only to people who attended a bootcamp\n",
    "attended_bootcamp = reduced_df.loc[reduced_df[\"AttendedBootcamp\"]==\"Yes\"]\n",
    "attended_bootcamp.count()"
   ]
  },
  {
   "cell_type": "code",
   "execution_count": 9,
   "metadata": {},
   "outputs": [
    {
     "data": {
      "text/plain": [
       "31.066014669926652"
      ]
     },
     "execution_count": 9,
     "metadata": {},
     "output_type": "execute_result"
    }
   ],
   "source": [
    "# Calculate average age of attendees\n",
    "average_age = attended_bootcamp[\"Age\"].mean()\n",
    "average_age"
   ]
  },
  {
   "cell_type": "code",
   "execution_count": 10,
   "metadata": {},
   "outputs": [
    {
     "data": {
      "text/plain": [
       "953"
      ]
     },
     "execution_count": 10,
     "metadata": {},
     "output_type": "execute_result"
    }
   ],
   "source": [
    "# Calculate how many people attended a bootcamp\n",
    "amount_attended = attended_bootcamp[\"AttendedBootcamp\"].count()\n",
    "amount_attended"
   ]
  },
  {
   "cell_type": "code",
   "execution_count": 11,
   "metadata": {},
   "outputs": [
    {
     "data": {
      "text/plain": [
       "832"
      ]
     },
     "execution_count": 11,
     "metadata": {},
     "output_type": "execute_result"
    }
   ],
   "source": [
    "# Calculate how many attendees hold degrees\n",
    "degree_holders = attended_bootcamp[\"SchoolDegree\"].count()\n",
    "degree_holders"
   ]
  },
  {
   "cell_type": "code",
   "execution_count": 12,
   "metadata": {},
   "outputs": [],
   "source": [
    "# Count number of attendees who self-identify as male; female; or are of non-binary gender identification\n",
    "total_gender_count = attended_bootcamp[\"Gender\"].count()\n",
    "male = attended_bootcamp[\"Gender\"].value_counts()[\"male\"]\n",
    "female = attended_bootcamp[\"Gender\"].value_counts()[\"female\"]\n",
    "non_binary = total_gender_count - male - female"
   ]
  },
  {
   "cell_type": "code",
   "execution_count": 13,
   "metadata": {},
   "outputs": [
    {
     "data": {
      "text/plain": [
       "6.101152368758003"
      ]
     },
     "execution_count": 13,
     "metadata": {},
     "output_type": "execute_result"
    }
   ],
   "source": [
    "# Calculate percentage of respondents who attended a bootcamp\n",
    "percent_attended = (amount_attended/total_surveyed)*100\n",
    "percent_attended"
   ]
  },
  {
   "cell_type": "code",
   "execution_count": 14,
   "metadata": {},
   "outputs": [],
   "source": [
    "# Calculate percentage of respondents belonging to each gender\n",
    "percent_male = (male/total_gender_count)*100\n",
    "percent_female = (female/total_gender_count)*100\n",
    "percent_non_binary = (non_binary/total_gender_count)*100"
   ]
  },
  {
   "cell_type": "code",
   "execution_count": 15,
   "metadata": {},
   "outputs": [],
   "source": [
    "# Calculate percentage of attendees with a school degree\n",
    "percent_degree = (degree_holders/amount_attended)*100"
   ]
  },
  {
   "cell_type": "code",
   "execution_count": 16,
   "metadata": {},
   "outputs": [
    {
     "data": {
      "text/plain": [
       "63740.50606060606"
      ]
     },
     "execution_count": 16,
     "metadata": {},
     "output_type": "execute_result"
    }
   ],
   "source": [
    "# Calculate average post-bootcamp salary\n",
    "average_salary = attended_bootcamp[\"BootcampPostSalary\"].mean()\n",
    "average_salary"
   ]
  },
  {
   "cell_type": "code",
   "execution_count": 17,
   "metadata": {},
   "outputs": [
    {
     "data": {
      "text/html": [
       "<div>\n",
       "<style scoped>\n",
       "    .dataframe tbody tr th:only-of-type {\n",
       "        vertical-align: middle;\n",
       "    }\n",
       "\n",
       "    .dataframe tbody tr th {\n",
       "        vertical-align: top;\n",
       "    }\n",
       "\n",
       "    .dataframe thead th {\n",
       "        text-align: right;\n",
       "    }\n",
       "</style>\n",
       "<table border=\"1\" class=\"dataframe\">\n",
       "  <thead>\n",
       "    <tr style=\"text-align: right;\">\n",
       "      <th></th>\n",
       "      <th>Total Surveyed</th>\n",
       "      <th>Total Attendees</th>\n",
       "      <th>% attended Bootcamp</th>\n",
       "      <th>Average Age</th>\n",
       "      <th>% Male</th>\n",
       "      <th>% Female</th>\n",
       "      <th>% Non-Binary</th>\n",
       "      <th>% who Earned Degree</th>\n",
       "      <th>Average Post Bootcamp Salary</th>\n",
       "    </tr>\n",
       "  </thead>\n",
       "  <tbody>\n",
       "    <tr>\n",
       "      <th>0</th>\n",
       "      <td>15620</td>\n",
       "      <td>953</td>\n",
       "      <td>6.1</td>\n",
       "      <td>31.07</td>\n",
       "      <td>59.54</td>\n",
       "      <td>39.14</td>\n",
       "      <td>1.32</td>\n",
       "      <td>87.3</td>\n",
       "      <td>63740.51</td>\n",
       "    </tr>\n",
       "  </tbody>\n",
       "</table>\n",
       "</div>"
      ],
      "text/plain": [
       "   Total Surveyed  Total Attendees  % attended Bootcamp  Average Age  % Male  \\\n",
       "0           15620              953                  6.1        31.07   59.54   \n",
       "\n",
       "   % Female  % Non-Binary  % who Earned Degree  Average Post Bootcamp Salary  \n",
       "0     39.14          1.32                 87.3                      63740.51  "
      ]
     },
     "execution_count": 17,
     "metadata": {},
     "output_type": "execute_result"
    }
   ],
   "source": [
    "# Create a new table consolodating above calculations\n",
    "bootcamp_table = pd.DataFrame({\"Total Surveyed\": [total_surveyed],\n",
    "                               \"Total Attendees\": [amount_attended],\n",
    "                               \"% attended Bootcamp\": [percent_attended],\n",
    "                               \"Average Age\": [average_age],\n",
    "                               \"% Male\": [percent_male],\n",
    "                               \"% Female\": [percent_female],\n",
    "                               \"% Non-Binary\": [percent_non_binary],\n",
    "                               \"% who Earned Degree\": [percent_degree],\n",
    "                               \"Average Post Bootcamp Salary\": [average_salary]\n",
    "})\n",
    "bootcamp_table = bootcamp_table[[\"Total Surveyed\", \"Total Attendees\", \"% attended Bootcamp\",\"Average Age\",\"% Male\", \n",
    "                                \"% Female\",\"% Non-Binary\",\"% who Earned Degree\",\"Average Post Bootcamp Salary\"]]\n",
    "\n",
    "bootcamp_table = bootcamp_table.round(2)\n",
    "\n",
    "bootcamp_table"
   ]
  },
  {
   "cell_type": "code",
   "execution_count": 18,
   "metadata": {},
   "outputs": [
    {
     "data": {
      "text/html": [
       "<div>\n",
       "<style scoped>\n",
       "    .dataframe tbody tr th:only-of-type {\n",
       "        vertical-align: middle;\n",
       "    }\n",
       "\n",
       "    .dataframe tbody tr th {\n",
       "        vertical-align: top;\n",
       "    }\n",
       "\n",
       "    .dataframe thead th {\n",
       "        text-align: right;\n",
       "    }\n",
       "</style>\n",
       "<table border=\"1\" class=\"dataframe\">\n",
       "  <thead>\n",
       "    <tr style=\"text-align: right;\">\n",
       "      <th></th>\n",
       "      <th>Total Surveyed</th>\n",
       "      <th>Total Attendees</th>\n",
       "      <th>% attended Bootcamp</th>\n",
       "      <th>Average Age</th>\n",
       "      <th>% Male</th>\n",
       "      <th>% Female</th>\n",
       "      <th>% Non-Binary</th>\n",
       "      <th>% who Earned Degree</th>\n",
       "      <th>Average Post Bootcamp Salary</th>\n",
       "    </tr>\n",
       "  </thead>\n",
       "  <tbody>\n",
       "    <tr>\n",
       "      <th>0</th>\n",
       "      <td>15620</td>\n",
       "      <td>953</td>\n",
       "      <td>6.10%</td>\n",
       "      <td>31.07</td>\n",
       "      <td>59.54%</td>\n",
       "      <td>39.14%</td>\n",
       "      <td>1.32%</td>\n",
       "      <td>87.30%</td>\n",
       "      <td>$63,740.51</td>\n",
       "    </tr>\n",
       "  </tbody>\n",
       "</table>\n",
       "</div>"
      ],
      "text/plain": [
       "   Total Surveyed  Total Attendees % attended Bootcamp  Average Age  % Male  \\\n",
       "0           15620              953               6.10%        31.07  59.54%   \n",
       "\n",
       "  % Female % Non-Binary % who Earned Degree Average Post Bootcamp Salary  \n",
       "0   39.14%        1.32%              87.30%                   $63,740.51  "
      ]
     },
     "execution_count": 18,
     "metadata": {},
     "output_type": "execute_result"
    }
   ],
   "source": [
    "# Improve formatting before outputting spreadsheet\n",
    "bootcamp_table[\"% attended Bootcamp\"]=bootcamp_table[\"% attended Bootcamp\"].map(\"{0:,.2f}%\".format)\n",
    "bootcamp_table[\"% Male\"]=bootcamp_table[\"% Male\"].map(\"{0:,.2f}%\".format)\n",
    "bootcamp_table[\"% Female\"]=bootcamp_table[\"% Female\"].map(\"{0:,.2f}%\".format)\n",
    "bootcamp_table[\"% Non-Binary\"]=bootcamp_table[\"% Non-Binary\"].map(\"{0:,.2f}%\".format)\n",
    "bootcamp_table[\"% who Earned Degree\"]=bootcamp_table[\"% who Earned Degree\"].map(\"{0:,.2f}%\".format)\n",
    "bootcamp_table[\"Average Post Bootcamp Salary\"]=bootcamp_table[\"Average Post Bootcamp Salary\"].map(\"${0:,.2f}\".format)\n",
    "\n",
    "bootcamp_table"
   ]
  },
  {
   "cell_type": "code",
   "execution_count": 19,
   "metadata": {},
   "outputs": [],
   "source": [
    "# Export to Excel\n",
    "bootcamp_table.to_excel(\"output/Bootcamppart1.xlsx\", index=False)"
   ]
  },
  {
   "cell_type": "code",
   "execution_count": null,
   "metadata": {},
   "outputs": [],
   "source": []
  }
 ],
 "metadata": {
  "anaconda-cloud": {},
  "kernelspec": {
   "display_name": "Python 3",
   "language": "python",
   "name": "python3"
  },
  "language_info": {
   "codemirror_mode": {
    "name": "ipython",
    "version": 3
   },
   "file_extension": ".py",
   "mimetype": "text/x-python",
   "name": "python",
   "nbconvert_exporter": "python",
   "pygments_lexer": "ipython3",
   "version": "3.7.3"
  }
 },
 "nbformat": 4,
 "nbformat_minor": 4
}
