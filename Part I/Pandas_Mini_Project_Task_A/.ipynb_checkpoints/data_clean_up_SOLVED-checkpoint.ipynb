{
 "cells": [
  {
   "cell_type": "markdown",
   "metadata": {},
   "source": [
    "**BIG BIG HINT! Look in the instructions to guide you on this task.**"
   ]
  },
  {
   "cell_type": "code",
   "execution_count": null,
   "metadata": {},
   "outputs": [],
   "source": [
    "# Dependencies\n",
    "import pandas as pd"
   ]
  },
  {
   "cell_type": "code",
   "execution_count": null,
   "metadata": {},
   "outputs": [],
   "source": [
    "# load CSV\n",
    "csv_path = \"Resources/2016-FCC-New-Coders-Survey-Data.csv\""
   ]
  },
  {
   "cell_type": "code",
   "execution_count": null,
   "metadata": {},
   "outputs": [],
   "source": [
    "# Read with pandas\n",
    "df = pd.read_csv(csv_path, encoding = 'iso-8859-1', low_memory=False)"
   ]
  },
  {
   "cell_type": "code",
   "execution_count": null,
   "metadata": {},
   "outputs": [],
   "source": [
    "# Inspect all columns\n",
    "df.columns"
   ]
  },
  {
   "cell_type": "code",
   "execution_count": null,
   "metadata": {},
   "outputs": [],
   "source": [
    "# Extract only columns 0, 1, 2, 3, 4, 7, 8, 9, 10, 11, 29, 30, 32, 36, 37, 45, 48, 56, 110, 111\n",
    "reduced_df = df.iloc[:,[0,1,2,3,4,7,8,9,10,11,29,30,32,36,37,45,48,56,110,111]]\n",
    "reduced_df.head()"
   ]
  },
  {
   "cell_type": "code",
   "execution_count": null,
   "metadata": {},
   "outputs": [],
   "source": [
    "# Change \"0\" to \"No\" and \"1\" to \"Yes\" in response columns\n",
    "reduced_df = reduced_df.replace({0.0: \"No\", 1.0: \"Yes\"})\n",
    "reduced_df.head()"
   ]
  },
  {
   "cell_type": "code",
   "execution_count": null,
   "metadata": {},
   "outputs": [],
   "source": [
    "# Calculate total number of respondents in survey\n",
    "total_surveyed = len(reduced_df)\n",
    "total_surveyed"
   ]
  },
  {
   "cell_type": "code",
   "execution_count": null,
   "metadata": {},
   "outputs": [],
   "source": [
    "# Extract rows corresponding only to people who attended a bootcamp\n",
    "attended_bootcamp = reduced_df.loc[reduced_df[\"AttendedBootcamp\"]==\"Yes\"]\n",
    "attended_bootcamp.count()"
   ]
  },
  {
   "cell_type": "code",
   "execution_count": null,
   "metadata": {},
   "outputs": [],
   "source": [
    "# Calculate average age of attendees\n",
    "average_age = attended_bootcamp[\"Age\"].mean()\n",
    "average_age"
   ]
  },
  {
   "cell_type": "code",
   "execution_count": null,
   "metadata": {},
   "outputs": [],
   "source": [
    "# Calculate how many people attended a bootcamp\n",
    "amount_attended = attended_bootcamp[\"AttendedBootcamp\"].count()\n",
    "amount_attended"
   ]
  },
  {
   "cell_type": "code",
   "execution_count": null,
   "metadata": {},
   "outputs": [],
   "source": [
    "# Calculate how many attendees hold degrees\n",
    "degree_holders = attended_bootcamp[\"SchoolDegree\"].count()\n",
    "degree_holders"
   ]
  },
  {
   "cell_type": "code",
   "execution_count": null,
   "metadata": {},
   "outputs": [],
   "source": [
    "# Count number of attendees who self-identify as male; female; or are of non-binary gender identification\n",
    "total_gender_count = attended_bootcamp[\"Gender\"].count()\n",
    "male = attended_bootcamp[\"Gender\"].value_counts()[\"male\"]\n",
    "female = attended_bootcamp[\"Gender\"].value_counts()[\"female\"]\n",
    "non_binary = total_gender_count - male - female"
   ]
  },
  {
   "cell_type": "code",
   "execution_count": null,
   "metadata": {},
   "outputs": [],
   "source": [
    "# Calculate percentage of respondents who attended a bootcamp\n",
    "percent_attended = (amount_attended/total_surveyed)*100\n",
    "percent_attended"
   ]
  },
  {
   "cell_type": "code",
   "execution_count": null,
   "metadata": {},
   "outputs": [],
   "source": [
    "# Calculate percentage of respondents belonging to each gender\n",
    "percent_male = (male/total_gender_count)*100\n",
    "percent_female = (female/total_gender_count)*100\n",
    "percent_non_binary = (non_binary/total_gender_count)*100"
   ]
  },
  {
   "cell_type": "code",
   "execution_count": null,
   "metadata": {},
   "outputs": [],
   "source": [
    "# Calculate percentage of attendees with a school degree\n",
    "percent_degree = (degree_holders/amount_attended)*100"
   ]
  },
  {
   "cell_type": "code",
   "execution_count": null,
   "metadata": {},
   "outputs": [],
   "source": [
    "# Calculate average post-bootcamp salary\n",
    "average_salary = attended_bootcamp[\"BootcampPostSalary\"].mean()\n",
    "average_salary"
   ]
  },
  {
   "cell_type": "code",
   "execution_count": null,
   "metadata": {},
   "outputs": [],
   "source": [
    "# Create a new table consolodating above calculations\n",
    "bootcamp_table = pd.DataFrame({\"Total Surveyed\": [total_surveyed],\n",
    "                               \"Total Attendees\": [amount_attended],\n",
    "                               \"% attended Bootcamp\": [percent_attended],\n",
    "                               \"Average Age\": [average_age],\n",
    "                               \"% Male\": [percent_male],\n",
    "                               \"% Female\": [percent_female],\n",
    "                               \"% Non-Binary\": [percent_non_binary],\n",
    "                               \"% who Earned Degree\": [percent_degree],\n",
    "                               \"Average Post Bootcamp Salary\": [average_salary]\n",
    "})\n",
    "bootcamp_table = bootcamp_table[[\"Total Surveyed\", \"Total Attendees\", \"% attended Bootcamp\",\"Average Age\",\"% Male\", \n",
    "                                \"% Female\",\"% Non-Binary\",\"% who Earned Degree\",\"Average Post Bootcamp Salary\"]]\n",
    "\n",
    "bootcamp_table = bootcamp_table.round(2)\n",
    "\n",
    "bootcamp_table"
   ]
  },
  {
   "cell_type": "code",
   "execution_count": null,
   "metadata": {},
   "outputs": [],
   "source": [
    "# Improve formatting before outputting spreadsheet\n",
    "bootcamp_table[\"% attended Bootcamp\"]=bootcamp_table[\"% attended Bootcamp\"].map(\"{0:,.2f}%\".format)\n",
    "bootcamp_table[\"% Male\"]=bootcamp_table[\"% Male\"].map(\"{0:,.2f}%\".format)\n",
    "bootcamp_table[\"% Female\"]=bootcamp_table[\"% Female\"].map(\"{0:,.2f}%\".format)\n",
    "bootcamp_table[\"% Non-Binary\"]=bootcamp_table[\"% Non-Binary\"].map(\"{0:,.2f}%\".format)\n",
    "bootcamp_table[\"% who Earned Degree\"]=bootcamp_table[\"% who Earned Degree\"].map(\"{0:,.2f}%\".format)\n",
    "bootcamp_table[\"Average Post Bootcamp Salary\"]=bootcamp_table[\"Average Post Bootcamp Salary\"].map(\"${0:,.2f}\".format)\n",
    "\n",
    "bootcamp_table"
   ]
  },
  {
   "cell_type": "code",
   "execution_count": null,
   "metadata": {},
   "outputs": [],
   "source": [
    "# Export to Excel\n",
    "bootcamp_table.to_excel(\"output/Bootcamppart1.xlsx\", index=False)"
   ]
  },
  {
   "cell_type": "code",
   "execution_count": null,
   "metadata": {},
   "outputs": [],
   "source": []
  }
 ],
 "metadata": {
  "anaconda-cloud": {},
  "kernelspec": {
   "display_name": "Python 3",
   "language": "python",
   "name": "python3"
  },
  "language_info": {
   "codemirror_mode": {
    "name": "ipython",
    "version": 3
   },
   "file_extension": ".py",
   "mimetype": "text/x-python",
   "name": "python",
   "nbconvert_exporter": "python",
   "pygments_lexer": "ipython3",
   "version": "3.7.3"
  }
 },
 "nbformat": 4,
 "nbformat_minor": 4
}
